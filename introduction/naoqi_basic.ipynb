{
 "cells": [
  {
   "cell_type": "markdown",
   "id": "3e838649",
   "metadata": {},
   "source": [
    "# NAOqi Basic"
   ]
  },
  {
   "cell_type": "code",
   "execution_count": 1,
   "id": "fc77790f",
   "metadata": {},
   "outputs": [
    {
     "ename": "ModuleNotFoundError",
     "evalue": "No module named 'naoqi'",
     "output_type": "error",
     "traceback": [
      "\u001b[1;31m---------------------------------------------------------------------------\u001b[0m",
      "\u001b[1;31mModuleNotFoundError\u001b[0m                       Traceback (most recent call last)",
      "\u001b[1;32m~\\AppData\\Local\\Temp/ipykernel_18856/291708187.py\u001b[0m in \u001b[0;36m<module>\u001b[1;34m\u001b[0m\n\u001b[1;32m----> 1\u001b[1;33m \u001b[1;32mfrom\u001b[0m \u001b[0mnaoqi\u001b[0m \u001b[1;32mimport\u001b[0m \u001b[0mALProxy\u001b[0m\u001b[1;33m\u001b[0m\u001b[1;33m\u001b[0m\u001b[0m\n\u001b[0m",
      "\u001b[1;31mModuleNotFoundError\u001b[0m: No module named 'naoqi'"
     ]
    }
   ],
   "source": [
    "from naoqi import ALProxy"
   ]
  },
  {
   "cell_type": "code",
   "execution_count": 2,
   "id": "ad5afefe",
   "metadata": {},
   "outputs": [
    {
     "ename": "NameError",
     "evalue": "name 'ALProxy' is not defined",
     "output_type": "error",
     "traceback": [
      "\u001b[1;31m---------------------------------------------------------------------------\u001b[0m",
      "\u001b[1;31mNameError\u001b[0m                                 Traceback (most recent call last)",
      "\u001b[1;32m~\\AppData\\Local\\Temp/ipykernel_18856/583547161.py\u001b[0m in \u001b[0;36m<module>\u001b[1;34m\u001b[0m\n\u001b[1;32m----> 1\u001b[1;33m \u001b[0mtts\u001b[0m \u001b[1;33m=\u001b[0m \u001b[0mALProxy\u001b[0m\u001b[1;33m(\u001b[0m\u001b[1;34m'ALTextToSpeech'\u001b[0m\u001b[1;33m,\u001b[0m \u001b[1;34m'nao6.local'\u001b[0m\u001b[1;33m,\u001b[0m \u001b[1;36m9559\u001b[0m\u001b[1;33m)\u001b[0m\u001b[1;33m\u001b[0m\u001b[1;33m\u001b[0m\u001b[0m\n\u001b[0m",
      "\u001b[1;31mNameError\u001b[0m: name 'ALProxy' is not defined"
     ]
    }
   ],
   "source": [
    "tts = ALProxy('ALTextToSpeech', 'nao6.local', 9559)"
   ]
  },
  {
   "cell_type": "code",
   "execution_count": 4,
   "id": "9e1ae387",
   "metadata": {},
   "outputs": [],
   "source": [
    "tts.say('Hi, I am here. Have you enjoy?')"
   ]
  },
  {
   "cell_type": "code",
   "execution_count": 5,
   "id": "b94a5368",
   "metadata": {},
   "outputs": [],
   "source": [
    "motion = ALProxy('ALMotion', 'nao6.local', 9559)"
   ]
  },
  {
   "cell_type": "code",
   "execution_count": 6,
   "id": "d50081ff",
   "metadata": {},
   "outputs": [],
   "source": [
    "motion.wakeUp()"
   ]
  },
  {
   "cell_type": "code",
   "execution_count": 7,
   "id": "13e2b295",
   "metadata": {},
   "outputs": [],
   "source": [
    "motion.rest()"
   ]
  },
  {
   "cell_type": "code",
   "execution_count": null,
   "id": "d13040b0",
   "metadata": {},
   "outputs": [],
   "source": []
  }
 ],
 "metadata": {
  "kernelspec": {
   "display_name": "Python 3 (ipykernel)",
   "language": "python",
   "name": "python3"
  },
  "language_info": {
   "codemirror_mode": {
    "name": "ipython",
    "version": 3
   },
   "file_extension": ".py",
   "mimetype": "text/x-python",
   "name": "python",
   "nbconvert_exporter": "python",
   "pygments_lexer": "ipython3",
   "version": "3.9.8"
  }
 },
 "nbformat": 4,
 "nbformat_minor": 1
}
